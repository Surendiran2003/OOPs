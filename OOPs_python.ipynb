{
 "cells": [
  {
   "cell_type": "markdown",
   "id": "f7469b14-1b44-439f-8119-642471b865d4",
   "metadata": {},
   "source": [
    "# Object oriented programming by Alan kay 1966\n",
    "- when we are writing a program all the variables and logic methods are clubed inside a roof called class\n",
    "## why oops?\n",
    "- For example banking system\n",
    "1. Variables - like (name, acc.no., address, phone)\n",
    "2. Logic method - like(record, deposit, withdraw, savings)\n",
    "- These all above can be defined under the class named class Bank\n",
    "- Customers a object boz all the customer of a bank will have these variables and logics \n",
    "- when ever they want they can call this class bank \n",
    "### The main idea begin oops concept is, in our program (data, function, method) making all these in a single unit we use oops"
   ]
  },
  {
   "cell_type": "markdown",
   "id": "aa32c578",
   "metadata": {},
   "source": [
    "## 5 Concepts in OOPs\n",
    "\n",
    "1. Class & objects\n",
    "2. Inheritance\n",
    "3. Polymorphism\n",
    "4. Abstraction\n",
    "5. Encapsulation"
   ]
  },
  {
   "cell_type": "markdown",
   "id": "f4834cfe-ede4-4a6d-9049-63006958bc6d",
   "metadata": {},
   "source": [
    "## Classes & Objects\n",
    "- Class is noting but the Blueprint for creating objects, attributes & methods\n",
    "- Defined using the class keyword \n",
    "\n",
    "``` \n",
    "class Biscuits:\n",
    "    .....\n",
    "```\n",
    "\n",
    "- object is created to use the class \n",
    "- object is noting but creating a variable and calling the class\n",
    "\n",
    "```\n",
    "good_day = Biscuits()\n",
    "```"
   ]
  },
  {
   "cell_type": "code",
   "execution_count": 1,
   "id": "8d1e327d",
   "metadata": {},
   "outputs": [],
   "source": [
    "class Biscuits:\n",
    "    #instance variable are nothing but variable that we are defined in a class\n",
    "    pass"
   ]
  },
  {
   "cell_type": "code",
   "execution_count": 2,
   "id": "99d547db",
   "metadata": {},
   "outputs": [],
   "source": [
    "good_day = Biscuits()\n",
    "milk_bikis = Biscuits()\n",
    "hide_and_seek = Biscuits()"
   ]
  },
  {
   "cell_type": "code",
   "execution_count": 3,
   "id": "a91e1798",
   "metadata": {},
   "outputs": [
    {
     "data": {
      "text/plain": [
       "__main__.Biscuits"
      ]
     },
     "execution_count": 3,
     "metadata": {},
     "output_type": "execute_result"
    }
   ],
   "source": [
    "type(hide_and_seek)"
   ]
  },
  {
   "cell_type": "markdown",
   "id": "c53ac76d",
   "metadata": {},
   "source": [
    "## Instance Variables & methods"
   ]
  },
  {
   "cell_type": "code",
   "execution_count": 4,
   "id": "2e6d6940",
   "metadata": {},
   "outputs": [],
   "source": [
    "good_day.flavour = \"blue\"\n",
    "good_day.price = 10"
   ]
  },
  {
   "cell_type": "code",
   "execution_count": 5,
   "id": "31371ed6",
   "metadata": {},
   "outputs": [
    {
     "data": {
      "text/plain": [
       "'blue'"
      ]
     },
     "execution_count": 5,
     "metadata": {},
     "output_type": "execute_result"
    }
   ],
   "source": [
    "good_day.flavour"
   ]
  },
  {
   "cell_type": "markdown",
   "id": "0a3fd082",
   "metadata": {},
   "source": [
    "# init() Method (acts like a constructor)\n",
    "- initialize(assign values) to the data members of the class when an object of the class is created\n",
    "# self keyword\n",
    "- a keyword tha refers to the current instance of a class\n",
    "``` \n",
    "class Bank:\n",
    "    def __init__(self, p1, p2):\n",
    "        self.p1=p1\n",
    "        self.p2=p2\n",
    "    def add(self):\n",
    "        return self.p1 + self.p2\n",
    "user1 = Bank(1,2)\n",
    "user1.add() ```"
   ]
  },
  {
   "cell_type": "code",
   "execution_count": 21,
   "id": "a8b34942",
   "metadata": {},
   "outputs": [
    {
     "name": "stdout",
     "output_type": "stream",
     "text": [
      "User1 Add: 3\n",
      "User2 Add: 5\n"
     ]
    }
   ],
   "source": [
    "class Bank:\n",
    "    def __init__(self, p1, p2):\n",
    "        self.p1 = p1\n",
    "        self.p2 = p2\n",
    "\n",
    "    def add(self):\n",
    "        return self.p1 + self.p2\n",
    "\n",
    "user1 = Bank(1, 2)\n",
    "print(\"User1 Add:\", user1.add())  \n",
    "\n",
    "user2 = Bank(2, 3)\n",
    "print(\"User2 Add:\", user2.add()) "
   ]
  },
  {
   "cell_type": "code",
   "execution_count": 55,
   "id": "a12a5ca9",
   "metadata": {},
   "outputs": [],
   "source": [
    "class Biscuits:\n",
    "    # Constructor\n",
    "    def __init__(self, flavour, price, ingredient):\n",
    "        self.flavour = flavour\n",
    "        self.price = price\n",
    "        self.ingredient = ingredient\n",
    "    # instance method\n",
    "    def get_ingredient(self, name):\n",
    "        print(f'{name} contains {self.ingredient} {self.price}!')"
   ]
  },
  {
   "cell_type": "code",
   "execution_count": 56,
   "id": "0e3800e9",
   "metadata": {},
   "outputs": [
    {
     "data": {
      "text/plain": [
       "'blue'"
      ]
     },
     "execution_count": 56,
     "metadata": {},
     "output_type": "execute_result"
    }
   ],
   "source": [
    "good_day = Biscuits('blue', 10, 'cashew')\n",
    "milk_bikis = Biscuits('classic', 20, 'milk')\n",
    "good_day.flavour"
   ]
  },
  {
   "cell_type": "code",
   "execution_count": 57,
   "id": "2814f49e",
   "metadata": {},
   "outputs": [
    {
     "name": "stdout",
     "output_type": "stream",
     "text": [
      "Good day contains cashew 10!\n"
     ]
    }
   ],
   "source": [
    "good_day.get_ingredient(\"Good day\")"
   ]
  },
  {
   "cell_type": "markdown",
   "id": "dc5ed1eb",
   "metadata": {},
   "source": [
    "# Inheritance (parambarai\"Generation generation\")\n",
    "- ability of one class to acquire or inherit the attributes from another class\n",
    "- base class is parent , derived class is child class\n",
    "``` \n",
    "    class shivaji:\n",
    "        pass\n",
    "    class prabhu(shivaji):\n",
    "    # it can access all the variables & methods inside parent class we can also specify the need for this class\n",
    "        def chinna_Thambi(self):\n",
    "```\n",
    "## Types of inheritance\n",
    "1. Single - parent -> child\n",
    "2. Multi-level - parent -> child1 -> child2 \n",
    "3. Hierarchical parent -> childA2 -> childB1\n",
    "                   ->   childA1 -> ChildB2\n",
    "4. Multiple parent1 - >\n",
    "                         -> child (parent1, parent2)   \n",
    "            parent2 - > \n"
   ]
  },
  {
   "cell_type": "code",
   "execution_count": 58,
   "id": "275536da",
   "metadata": {},
   "outputs": [],
   "source": [
    "class Rusk(Biscuits):\n",
    "    pass"
   ]
  },
  {
   "cell_type": "code",
   "execution_count": 59,
   "id": "6c43c65c",
   "metadata": {},
   "outputs": [],
   "source": [
    "toastea = Rusk('elachi', 35 , 'milk')"
   ]
  },
  {
   "cell_type": "code",
   "execution_count": 60,
   "id": "909d6f0e",
   "metadata": {},
   "outputs": [
    {
     "data": {
      "text/plain": [
       "'elachi'"
      ]
     },
     "execution_count": 60,
     "metadata": {},
     "output_type": "execute_result"
    }
   ],
   "source": [
    "toastea.flavour"
   ]
  },
  {
   "cell_type": "markdown",
   "id": "b9d45d93",
   "metadata": {},
   "source": [
    "# Overriding\n",
    "- when a child class creates new implementaion of parent method\n"
   ]
  },
  {
   "cell_type": "code",
   "execution_count": 92,
   "id": "fb48c537",
   "metadata": {},
   "outputs": [],
   "source": [
    "class Rusk(Biscuits):\n",
    "    #constructor\n",
    "    # def __init__(self, texture):\n",
    "    def __init__(self, flavour, price, ingredient, texture):\n",
    "        # Biscuits.__init__(self, flavour, price, ingredient)\n",
    "        super().__init__(flavour, price, ingredient) # super is used to automatically take the parent class\n"
   ]
  },
  {
   "cell_type": "code",
   "execution_count": 93,
   "id": "4097e46b",
   "metadata": {},
   "outputs": [],
   "source": [
    "toastea = Rusk('elachi', 10,'milk','hard')\n"
   ]
  },
  {
   "cell_type": "code",
   "execution_count": 94,
   "id": "c871cae8",
   "metadata": {},
   "outputs": [
    {
     "data": {
      "text/plain": [
       "'hard'"
      ]
     },
     "execution_count": 94,
     "metadata": {},
     "output_type": "execute_result"
    }
   ],
   "source": [
    "toastea.texture"
   ]
  },
  {
   "cell_type": "markdown",
   "id": "ac2db6ad",
   "metadata": {},
   "source": [
    "# Overloading\n",
    "- Two or more methods have the same name but different numbers of paramenters or different types of paraments. or both\n",
    "- python does not support overloading by default\n",
    "- using multipledispatch we can achienve overloading in python"
   ]
  },
  {
   "cell_type": "code",
   "execution_count": 96,
   "id": "721318ff",
   "metadata": {},
   "outputs": [
    {
     "data": {
      "text/plain": [
       "10"
      ]
     },
     "execution_count": 96,
     "metadata": {},
     "output_type": "execute_result"
    }
   ],
   "source": [
    "class Bisci:\n",
    "    def add(self, a,b):\n",
    "        return a+b\n",
    "    def add(self, a,b,c):\n",
    "        return a+b+c\n",
    "    def add(self,a,b,c,d):\n",
    "        return a+b+c+d\n",
    "b = Bisci()\n",
    "b.add(1,2,3,4)"
   ]
  },
  {
   "cell_type": "markdown",
   "id": "fa9a879a",
   "metadata": {},
   "source": [
    "# Polymorphism (in many forms)\n",
    "- There will be a base class method \n",
    "- All the derived class use this base class method to write there own logics \n",
    "- it will be achieved using method overriding"
   ]
  },
  {
   "cell_type": "code",
   "execution_count": 129,
   "id": "0da853b3",
   "metadata": {},
   "outputs": [
    {
     "name": "stdout",
     "output_type": "stream",
     "text": [
      "maavu + water + milk + bake\n"
     ]
    }
   ],
   "source": [
    "class Biscuits:\n",
    "    def cook_biscuit(self):\n",
    "        print(\"maavu + water + butter + bake\")\n",
    "class good_day(Biscuits):\n",
    "    def cook_biscuit(self):\n",
    "        print(\"maavu + water + ghee + cashew + bake\")\n",
    "class milk_bikis(Biscuits):\n",
    "    def cook_biscuit(self):\n",
    "        print(\"maavu + water + milk + bake\")\n",
    "gd = good_day()\n",
    "mb = milk_bikis()\n",
    "mb.cook_biscuit()"
   ]
  },
  {
   "cell_type": "markdown",
   "id": "1fbb838a",
   "metadata": {},
   "source": [
    "# Encapsulation\n",
    "- bundles data and methods into a single unit or class\n",
    "- using access rights public , protected, private\n",
    "- getter and setter     \n",
    "1. Getter: The getter method is used to retrieve the value of a private attribute. It allows controlled access to the attribute.\n",
    "2. Setter: The setter method is used to set or modify the value of a private attribute. It allows you to control how the value is updated, enabling validation or modification of the data before it’s actually assigned."
   ]
  },
  {
   "cell_type": "code",
   "execution_count": 118,
   "id": "c2d7096d",
   "metadata": {},
   "outputs": [],
   "source": [
    "class Biscuits:\n",
    "    # Constructor\n",
    "    def __init__(self, flavour, ingredient, price):\n",
    "        self.flavour = flavour # public\n",
    "        self._ingredient = ingredient # protected\n",
    "        self.__price = price # private\n",
    "\n",
    "    ## getter methos\n",
    "    def biscuit_price(self):\n",
    "        return self.__price"
   ]
  },
  {
   "cell_type": "code",
   "execution_count": 119,
   "id": "eb574313",
   "metadata": {},
   "outputs": [],
   "source": [
    "biscuit_obj = Biscuits(\"blue\", \"cashew\", 10)"
   ]
  },
  {
   "cell_type": "code",
   "execution_count": 120,
   "id": "98fa069f",
   "metadata": {},
   "outputs": [
    {
     "name": "stdout",
     "output_type": "stream",
     "text": [
      "blue\n",
      "cashew\n"
     ]
    },
    {
     "data": {
      "text/plain": [
       "10"
      ]
     },
     "execution_count": 120,
     "metadata": {},
     "output_type": "execute_result"
    }
   ],
   "source": [
    "print(biscuit_obj.flavour)\n",
    "print(biscuit_obj._ingredient)\n",
    "biscuit_obj.biscuit_price()"
   ]
  },
  {
   "cell_type": "markdown",
   "id": "bf302357",
   "metadata": {},
   "source": [
    "# Abstraction (shorter)\n",
    "- Allows us to simpplify complex concepts and focus on the essential details\n"
   ]
  },
  {
   "cell_type": "code",
   "execution_count": 126,
   "id": "51322224",
   "metadata": {},
   "outputs": [],
   "source": [
    "from abc import ABC, abstractmethod"
   ]
  },
  {
   "cell_type": "code",
   "execution_count": 135,
   "id": "467873bc",
   "metadata": {},
   "outputs": [
    {
     "name": "stdout",
     "output_type": "stream",
     "text": [
      "maavu + water + ghee + cashew + bake\n",
      "maavu + water + milk + bake\n"
     ]
    }
   ],
   "source": [
    "from abc import ABC, abstractmethod\n",
    "\n",
    "# Abstract class\n",
    "class Biscuits(ABC):\n",
    "    @abstractmethod\n",
    "    def cook_biscuit(self):\n",
    "        pass  # Abstract method has no body\n",
    "\n",
    "# Concrete class 1\n",
    "class GoodDay(Biscuits):\n",
    "    def cook_biscuit(self):\n",
    "        print(\"maavu + water + ghee + cashew + bake\")\n",
    "\n",
    "# Concrete class 2\n",
    "class MilkBikis(Biscuits):\n",
    "    def cook_biscuit(self):\n",
    "        print(\"maavu + water + milk + bake\")\n",
    "\n",
    "# gd and mb are objects of concrete classes\n",
    "gd = GoodDay()\n",
    "mb = MilkBikis()\n",
    "\n",
    "gd.cook_biscuit()  # Output: maavu + water + ghee + cashew + bake\n",
    "mb.cook_biscuit()  # Output: maavu + water + milk + bake\n"
   ]
  },
  {
   "cell_type": "markdown",
   "id": "3c1f60d6",
   "metadata": {},
   "source": [
    " ## What is a Decorator in Python?\n",
    "\n",
    "- A decorator is a function that takes another function (or method) as input, adds some functionality, and returns a new function — all without modifying the original function's code.\n",
    "\n",
    "- Think of it as a wrapper around your function."
   ]
  },
  {
   "cell_type": "code",
   "execution_count": 152,
   "id": "197a0cdf",
   "metadata": {},
   "outputs": [
    {
     "name": "stdout",
     "output_type": "stream",
     "text": [
      "Arguments passed: ('Surendiran',) {'initial': 'B'}\n",
      "Hello, Surendiran B!\n"
     ]
    }
   ],
   "source": [
    "def decorator_with_args(func):\n",
    "    def wrapper(*args, **kwargs):\n",
    "        print(\"Arguments passed:\", args, kwargs)\n",
    "        return func(*args, **kwargs)\n",
    "    return wrapper\n",
    "\n",
    "@decorator_with_args\n",
    "def greet(name,initial):\n",
    "    print(f\"Hello, {name} {initial}!\")\n",
    "\n",
    "greet(\"Surendiran\", initial = \"B\")\n"
   ]
  },
  {
   "cell_type": "code",
   "execution_count": 153,
   "id": "1e8b044b",
   "metadata": {},
   "outputs": [
    {
     "name": "stdout",
     "output_type": "stream",
     "text": [
      "Welcome to your dashboard\n",
      "Please log in first.\n"
     ]
    }
   ],
   "source": [
    "def login_required(func):\n",
    "    def wrapper(user):\n",
    "        if not user.get(\"is_logged_in\"):\n",
    "            print(\"Please log in first.\")\n",
    "        else:\n",
    "            func(user)\n",
    "    return wrapper\n",
    "\n",
    "@login_required\n",
    "def view_dashboard(user):\n",
    "    print(\"Welcome to your dashboard\")\n",
    "\n",
    "user1 = {\"username\": \"surendiran\", \"is_logged_in\": True}\n",
    "view_dashboard(user1)  # Works\n",
    "\n",
    "user2 = {\"username\": \"guest\", \"is_logged_in\": False}\n",
    "view_dashboard(user2)  # Blocked\n"
   ]
  }
 ],
 "metadata": {
  "kernelspec": {
   "display_name": "Python 3",
   "language": "python",
   "name": "python3"
  },
  "language_info": {
   "codemirror_mode": {
    "name": "ipython",
    "version": 3
   },
   "file_extension": ".py",
   "mimetype": "text/x-python",
   "name": "python",
   "nbconvert_exporter": "python",
   "pygments_lexer": "ipython3",
   "version": "3.9.16"
  }
 },
 "nbformat": 4,
 "nbformat_minor": 5
}
